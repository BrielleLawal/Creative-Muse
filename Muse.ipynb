{
 "cells": [
  {
   "cell_type": "code",
   "execution_count": 1,
   "id": "2e0e042c",
   "metadata": {},
   "outputs": [],
   "source": [
    "# Setup Gemini\n",
    "import google.generativeai as genai\n",
    "from PIL import Image\n",
    "import ipywidgets as widgets\n",
    "import gradio as gr\n",
    "from IPython.display import display, clear_output\n"
   ]
  },
  {
   "cell_type": "code",
   "execution_count": 2,
   "id": "2deda4ae",
   "metadata": {},
   "outputs": [],
   "source": [
    "# Replace this with your actual API key from Google AI Studio\n",
    "genai.configure(api_key=\"your_key\")\n",
    "\n",
    "# Load text and vision models\n",
    "text_model = genai.GenerativeModel('models/gemini-1.5-flash')\n",
    "vision_model = genai.GenerativeModel(model_name=\"gemini-1.5-flash\")\n"
   ]
  },
  {
   "cell_type": "code",
   "execution_count": 3,
   "id": "2fda8b7c",
   "metadata": {},
   "outputs": [],
   "source": [
    "# Friendly greetings list\n",
    "greetings = [\"hi\", \"hello\", \"hey\", \"good morning\", \"good afternoon\", \"good evening\"]"
   ]
  },
  {
   "cell_type": "code",
   "execution_count": 4,
   "id": "225aee89",
   "metadata": {},
   "outputs": [],
   "source": [
    "def creative_muse_text_feedback(user_input, history=[]):\n",
    "    user_input_lower = user_input.lower()\n",
    "\n",
    "    # Short friendly response for greetings\n",
    "    if any(greet in user_input_lower for greet in greetings):\n",
    "        return \"Hello! 😊 How are you feeling today? Tell me what you're working on or need help with.\"\n",
    "\n",
    "    # If user wants a longer prompt\n",
    "    if any(keyword in user_input_lower for keyword in [\"give me\", \"i need a prompt\", \"inspire me\", \"longer\"]):\n",
    "        prompt = f\"\"\"\n",
    "        You are Creative Muse,  a warm AI friend helping people turn feelings into artistic ideas.\n",
    "\n",
    "        The user says: \"{user_input}\"\n",
    "\n",
    "        Respond with a detailed creative prompt or inspiration idea. Keep the tone encouraging.\n",
    "        \"\"\"\n",
    "    else:\n",
    "        # Keep it short and chill\n",
    "        prompt = f\"\"\"\n",
    "        You are Creative Muse, a friendly AI for artists and creators.\n",
    "\n",
    "        The user says: \"{user_input}\"\n",
    "\n",
    "        Respond briefly with encouragement and a short creative idea. Keep it 2–3 sentences max.\n",
    "        \"\"\"\n",
    "\n",
    "    response = text_model.generate_content(prompt)\n",
    "    return response.text"
   ]
  },
  {
   "cell_type": "code",
   "execution_count": 5,
   "id": "7cd3bc2c",
   "metadata": {},
   "outputs": [],
   "source": [
    "def creative_muse_image_feedback(image):\n",
    "    \"\"\"\n",
    "    Open image and send to Gemini vision model with prompt for kind feedback.\n",
    "    \"\"\"\n",
    "    prompt = (\n",
    "        \"You are Creative Muse, an encouraging AI muse who appreciates art. \"\n",
    "        \"Look at this image and comment kindly on theme, technique, expression, \"\n",
    "        \"and gently suggest ways to improve.\"\n",
    "    )\n",
    "    \n",
    "    \n",
    "    response = vision_model.generate_content([\n",
    "        prompt,\n",
    "        Image\n",
    "    ])\n",
    "\n",
    "    return response.text\n",
    "\n"
   ]
  },
  {
   "cell_type": "code",
   "execution_count": 6,
   "id": "6641e363",
   "metadata": {},
   "outputs": [],
   "source": [
    "# chat handling\n",
    "def muse_chat(user_input, image_input, history=[]):\n",
    "    if image_input:\n",
    "        return creative_muse_image_feedback(image_input)\n",
    "    elif user_input:\n",
    "        return creative_muse_text_feedback(user_input)\n",
    "    else:\n",
    "        return \"Please type something or upload an image for feedback.\""
   ]
  },
  {
   "cell_type": "code",
   "execution_count": 7,
   "id": "c95e44d2",
   "metadata": {},
   "outputs": [
    {
     "name": "stdout",
     "output_type": "stream",
     "text": [
      "* Running on local URL:  http://127.0.0.1:7860\n",
      "* To create a public link, set `share=True` in `launch()`.\n"
     ]
    },
    {
     "data": {
      "text/html": [
       "<div><iframe src=\"http://127.0.0.1:7860/\" width=\"100%\" height=\"500\" allow=\"autoplay; camera; microphone; clipboard-read; clipboard-write;\" frameborder=\"0\" allowfullscreen></iframe></div>"
      ],
      "text/plain": [
       "<IPython.core.display.HTML object>"
      ]
     },
     "metadata": {},
     "output_type": "display_data"
    },
    {
     "data": {
      "text/plain": []
     },
     "execution_count": 7,
     "metadata": {},
     "output_type": "execute_result"
    }
   ],
   "source": [
    "# Gradio Interface\n",
    "with gr.Blocks(title=\"Creative Muse\") as demo:\n",
    "    gr.Markdown(\"## 🎨 Creative Muse — Your AI Art Companion\")\n",
    "    gr.Markdown(\"Chat with Muse by typing your thoughts or uploading your art. Muse responds with encouragement, ideas, or gentle feedback.\")\n",
    "\n",
    "    with gr.Row():\n",
    "        text_input = gr.Textbox(\n",
    "            label=\"💬 Type here\",\n",
    "            placeholder=\"e.g. I feel blocked... or Hello 👋\",\n",
    "            lines=1,\n",
    "            show_label=False\n",
    "        )\n",
    "        image_input = gr.Image(label=\"🖼️ Upload your art (optional)\", type=\"pil\")\n",
    "\n",
    "    output = gr.Textbox(label=\"🪄 Muse's Response:\", lines=5)\n",
    "\n",
    "    text_input.submit(fn=muse_chat, inputs=[text_input, image_input], outputs=output)\n",
    "    gr.Button(\"🎭 Ask Muse\").click(fn=muse_chat, inputs=[text_input, image_input], outputs=output)\n",
    "\n",
    "demo.launch()"
   ]
  },
  {
   "cell_type": "code",
   "execution_count": 8,
   "id": "e2f4f95a",
   "metadata": {},
   "outputs": [],
   "source": [
    "# Test text feedback\n",
    "#user_text = \"I feel lost and uninspired, like all my ideas are dull.\"\n",
    "#text_feedback = creative_muse_text_feedback(user_text)\n",
    "#print(\"Text Feedback from Creative Muse:\\n\", text_feedback)"
   ]
  },
  {
   "cell_type": "code",
   "execution_count": 9,
   "id": "832a684b",
   "metadata": {},
   "outputs": [],
   "source": [
    "# Test image feedback (replace 'your_image.jpg' with your actual image file)\n",
    "#image_path = r\"C:\\Users\\HP\\Pictures\\Screenshots\\Screenshot (4).png\"\n",
    "\n",
    "#try:\n",
    "    #image_feedback = creative_muse_image_feedback(image_path)\n",
    "   # print(\"\\nImage Feedback from Creative Muse:\\n\", image_feedback)\n",
    "#except FileNotFoundError:\n",
    "    #print(f\"Image file not found: {image_path}\")    \n"
   ]
  },
  {
   "cell_type": "code",
   "execution_count": null,
   "id": "ca0e77cb",
   "metadata": {},
   "outputs": [],
   "source": []
  },
  {
   "cell_type": "code",
   "execution_count": null,
   "id": "94098aac",
   "metadata": {},
   "outputs": [],
   "source": []
  },
  {
   "cell_type": "code",
   "execution_count": null,
   "id": "2a648c7b",
   "metadata": {},
   "outputs": [],
   "source": []
  },
  {
   "cell_type": "code",
   "execution_count": null,
   "id": "517836f5",
   "metadata": {},
   "outputs": [],
   "source": []
  },
  {
   "cell_type": "code",
   "execution_count": null,
   "id": "a07dcd75",
   "metadata": {},
   "outputs": [],
   "source": []
  },
  {
   "cell_type": "code",
   "execution_count": null,
   "id": "cf10d664",
   "metadata": {},
   "outputs": [],
   "source": []
  },
  {
   "cell_type": "code",
   "execution_count": null,
   "id": "4e531ab2",
   "metadata": {},
   "outputs": [],
   "source": []
  },
  {
   "cell_type": "code",
   "execution_count": null,
   "id": "bf2403aa",
   "metadata": {},
   "outputs": [],
   "source": []
  }
 ],
 "metadata": {
  "kernelspec": {
   "display_name": "Python 3 (ipykernel)",
   "language": "python",
   "name": "python3"
  },
  "language_info": {
   "codemirror_mode": {
    "name": "ipython",
    "version": 3
   },
   "file_extension": ".py",
   "mimetype": "text/x-python",
   "name": "python",
   "nbconvert_exporter": "python",
   "pygments_lexer": "ipython3",
   "version": "3.11.4"
  }
 },
 "nbformat": 4,
 "nbformat_minor": 5
}
