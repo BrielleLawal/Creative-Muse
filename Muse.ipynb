{
 "cells": [
  {
   "cell_type": "code",
   "execution_count": 1,
   "id": "2e0e042c",
   "metadata": {},
   "outputs": [],
   "source": [
    "# Setup Gemini\n",
    "import google.generativeai as genai\n",
    "from PIL import Image\n",
    "import ipywidgets as widgets\n",
    "from IPython.display import display, clear_output\n"
   ]
  },
  {
   "cell_type": "code",
   "execution_count": 2,
   "id": "2deda4ae",
   "metadata": {},
   "outputs": [],
   "source": [
    "# Replace this with your actual API key from Google AI Studio\n",
    "genai.configure(api_key=\"your_key\")\n",
    "\n",
    "# Load text and vision models\n",
    "text_model = genai.GenerativeModel('models/gemini-1.5-flash')\n",
    "vision_model = genai.GenerativeModel(model_name=\"gemini-1.5-flash\")\n"
   ]
  },
  {
   "cell_type": "code",
   "execution_count": 3,
   "id": "225aee89",
   "metadata": {},
   "outputs": [],
   "source": [
    "def creative_muse_text_feedback(user_text):\n",
    "    \"\"\"\n",
    "    Send user text prompt to Gemini text model and get a creative response.\n",
    "    \"\"\"\n",
    "    prompt = (\n",
    "        \"You are Creative Muse, a warm AI friend helping people turn feelings into artistic ideas. \"\n",
    "        f\"User says: '{user_text}'. \"\n",
    "        \"Give a creative writing or art prompt to inspire them.\"\n",
    "    )\n",
    "    \n",
    "    response = text_model.generate_content(prompt)\n",
    "    return response.text"
   ]
  },
  {
   "cell_type": "code",
   "execution_count": 4,
   "id": "7cd3bc2c",
   "metadata": {},
   "outputs": [],
   "source": [
    "def creative_muse_image_feedback(image_path):\n",
    "    \"\"\"\n",
    "    Open image and send to Gemini vision model with prompt for kind feedback.\n",
    "    \"\"\"\n",
    "    image = Image.open(image_path)\n",
    "    with open(image_path, \"rb\") as img_file:\n",
    "        image_bytes = img_file.read()\n",
    "    \n",
    "    prompt = (\n",
    "        \"You are Creative Muse, an encouraging AI muse who appreciates art. \"\n",
    "        \"Look at this image and comment kindly on theme, technique, expression, \"\n",
    "        \"and gently suggest ways to improve.\"\n",
    "    )\n",
    "    \n",
    "    \n",
    "    # Use the vision model correctly\n",
    "    response = vision_model.generate_content([\n",
    "        prompt,\n",
    "        Image.open(image_path)\n",
    "    ])\n",
    "\n",
    "    return response.text\n",
    "\n"
   ]
  },
  {
   "cell_type": "code",
   "execution_count": 5,
   "id": "e2f4f95a",
   "metadata": {},
   "outputs": [
    {
     "name": "stdout",
     "output_type": "stream",
     "text": [
      "Text Feedback from Creative Muse:\n",
      " Ah, my friend, feeling lost and uninspired is a perfectly valid place to be!  It's the fertile ground from which amazing art often springs. Think of it as a blank canvas, ready for something truly unique.  Let's break through that dullness.\n",
      "\n",
      "**Your Creative Prompt:  The Unexpected Museum**\n",
      "\n",
      "Imagine you stumble upon a hidden museum – not in a grand building, but perhaps nestled within a forgotten corner of a forest, or at the bottom of the sea, or even inside a giant, slumbering tortoise.  This museum isn't filled with ordinary artifacts.  Its exhibits are filled with the \"lost things\" – forgotten dreams, half-formed ideas, abandoned passions, and whispered regrets.\n",
      "\n",
      "**For Writers:**  Write a short story about this museum. What are the exhibits like? What strange and wonderful objects are on display?  Does someone work there? What's their story?  Focus on the feeling of discovery and the unexpected beauty that can be found in things we thought were lost or dull. Let your own \"lost ideas\" become the inspiration for the museum's collection.\n",
      "\n",
      "**For Visual Artists:** Create a piece of art depicting one particularly intriguing exhibit from this museum. What does it look like? What is its story? Use color, texture, and form to express the feelings of being lost and rediscovering inspiration. Perhaps the \"artifact\" itself is a representation of a feeling, an unfinished project, or a forgotten dream.  Don't be afraid to experiment with unusual materials or techniques.\n",
      "\n",
      "Remember, there's no right or wrong answer. The goal is to explore that feeling of being lost and transform it into something beautiful and meaningful. Let your imagination run wild – the most unexpected things can become the most inspiring. I'm here cheering you on every step of the way!  Let me know what you come up with!\n",
      "\n"
     ]
    }
   ],
   "source": [
    "# Test text feedback\n",
    "user_text = \"I feel lost and uninspired, like all my ideas are dull.\"\n",
    "text_feedback = creative_muse_text_feedback(user_text)\n",
    "print(\"Text Feedback from Creative Muse:\\n\", text_feedback)"
   ]
  },
  {
   "cell_type": "code",
   "execution_count": 6,
   "id": "832a684b",
   "metadata": {},
   "outputs": [
    {
     "name": "stdout",
     "output_type": "stream",
     "text": [
      "\n",
      "Image Feedback from Creative Muse:\n",
      " Oh, this is a lovely snapshot!  The theme is clearly one of warmth and affection – a celebration of friendship and shared moments. The photo captures a genuine feeling of camaraderie; you can almost feel the easygoing atmosphere of the meal together. I love the informal setting, a casual restaurant, which speaks volumes about the easy and comfortable relationships.\n",
      "\n",
      "Technically, the image is a straightforward shot, but it works beautifully for its purpose. The focus is sharp on the people, which is perfect.  The lighting is a bit uneven – there's a slight overexposure, perhaps,  but it doesn't detract from the overall feeling of the photo.\n",
      "\n",
      "The expression of the group is quite charming.  There’s a nice balance between smiles and more reserved expressions, making it feel natural and not posed. The caption perfectly complements the image, adding an extra layer of emotional depth.\n",
      "\n",
      "To enhance the image, you could experiment with a few things:\n",
      "\n",
      "* **Cropping:** A tighter crop might focus the attention even more on the main group, eliminating some of the background elements. Consider a closer crop to the subjects.\n",
      "\n",
      "* **Brightness/Contrast Adjustment:** A slight adjustment to the brightness and contrast could even out the lighting and make the colors pop a little more.  Many free photo editing apps offer simple adjustments.\n",
      "\n",
      "* **Color Grading:**  A subtle color grade could add a warmth or vibrancy to the image, accentuating the positive emotions. Think of slightly enhancing the saturation.\n",
      "\n",
      "Remember, the charm of the photo lies in its authenticity.  These are just gentle suggestions to enhance what is already a wonderful memory captured.  Don’t feel pressured to change anything drastically; it's perfectly beautiful as it is!  The heartfelt caption adds so much to the image already.  Keep creating!\n",
      "\n"
     ]
    }
   ],
   "source": [
    "# Test image feedback (replace 'your_image.jpg' with your actual image file)\n",
    "image_path = r\"your_image_path\"\n",
    "\n",
    "try:\n",
    "    image_feedback = creative_muse_image_feedback(image_path)\n",
    "    print(\"\\nImage Feedback from Creative Muse:\\n\", image_feedback)\n",
    "except FileNotFoundError:\n",
    "    print(f\"Image file not found: {image_path}\")    \n"
   ]
  },
  {
   "cell_type": "code",
   "execution_count": null,
   "id": "ca0e77cb",
   "metadata": {},
   "outputs": [],
   "source": []
  },
  {
   "cell_type": "code",
   "execution_count": null,
   "id": "94098aac",
   "metadata": {},
   "outputs": [],
   "source": []
  },
  {
   "cell_type": "code",
   "execution_count": null,
   "id": "2a648c7b",
   "metadata": {},
   "outputs": [],
   "source": []
  },
  {
   "cell_type": "code",
   "execution_count": null,
   "id": "517836f5",
   "metadata": {},
   "outputs": [],
   "source": []
  },
  {
   "cell_type": "code",
   "execution_count": null,
   "id": "a07dcd75",
   "metadata": {},
   "outputs": [],
   "source": []
  },
  {
   "cell_type": "code",
   "execution_count": null,
   "id": "cf10d664",
   "metadata": {},
   "outputs": [],
   "source": []
  },
  {
   "cell_type": "code",
   "execution_count": null,
   "id": "4e531ab2",
   "metadata": {},
   "outputs": [],
   "source": []
  },
  {
   "cell_type": "code",
   "execution_count": null,
   "id": "bf2403aa",
   "metadata": {},
   "outputs": [],
   "source": []
  }
 ],
 "metadata": {
  "kernelspec": {
   "display_name": "Python 3 (ipykernel)",
   "language": "python",
   "name": "python3"
  },
  "language_info": {
   "codemirror_mode": {
    "name": "ipython",
    "version": 3
   },
   "file_extension": ".py",
   "mimetype": "text/x-python",
   "name": "python",
   "nbconvert_exporter": "python",
   "pygments_lexer": "ipython3",
   "version": "3.11.4"
  }
 },
 "nbformat": 4,
 "nbformat_minor": 5
}
